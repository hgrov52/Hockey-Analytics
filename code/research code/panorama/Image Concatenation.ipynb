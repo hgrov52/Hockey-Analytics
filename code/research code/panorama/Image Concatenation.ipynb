{
 "cells": [
  {
   "cell_type": "code",
   "execution_count": 151,
   "metadata": {},
   "outputs": [
    {
     "name": "stdout",
     "output_type": "stream",
     "text": [
      "imA:\n",
      " [[2. 2. 2. 2.]\n",
      " [2. 2. 2. 2.]\n",
      " [2. 2. 2. 2.]\n",
      " [2. 2. 2. 2.]] \n",
      "\n",
      "imB:\n",
      " [[3. 3. 3. 3.]\n",
      " [3. 3. 3. 3.]\n",
      " [3. 3. 3. 3.]\n",
      " [3. 3. 3. 3.]] \n",
      "\n",
      "5 -5\n",
      "result:\n",
      " [[-inf -inf -inf -inf -inf -inf -inf -inf -inf]\n",
      " [-inf -inf -inf -inf -inf -inf -inf -inf -inf]\n",
      " [-inf -inf -inf -inf -inf -inf -inf -inf -inf]\n",
      " [-inf -inf -inf -inf -inf -inf -inf -inf -inf]\n",
      " [-inf -inf -inf -inf -inf -inf -inf -inf -inf]\n",
      " [-inf -inf -inf -inf -inf -inf -inf -inf -inf]\n",
      " [-inf -inf -inf -inf -inf -inf -inf -inf -inf]\n",
      " [-inf -inf -inf -inf -inf -inf -inf -inf -inf]\n",
      " [-inf -inf -inf -inf -inf -inf -inf -inf -inf]]\n",
      "result:\n",
      " [[-inf -inf -inf -inf -inf   2.   2.   2.   2.]\n",
      " [-inf -inf -inf -inf -inf   2.   2.   2.   2.]\n",
      " [-inf -inf -inf -inf -inf   2.   2.   2.   2.]\n",
      " [-inf -inf -inf -inf -inf   2.   2.   2.   2.]\n",
      " [-inf -inf -inf -inf -inf -inf -inf -inf -inf]\n",
      " [  3.   3.   3.   3. -inf -inf -inf -inf -inf]\n",
      " [  3.   3.   3.   3. -inf -inf -inf -inf -inf]\n",
      " [  3.   3.   3.   3. -inf -inf -inf -inf -inf]\n",
      " [  3.   3.   3.   3. -inf -inf -inf -inf -inf]]\n"
     ]
    }
   ],
   "source": [
    "import numpy as np\n",
    "imA = np.zeros((4,4))\n",
    "imB = np.zeros((4,4))\n",
    "\n",
    "imA[:,:]=2\n",
    "print('imA:\\n',imA,'\\n')\n",
    "\n",
    "imB[:,:]=3\n",
    "print('imB:\\n',imB,'\\n')\n",
    "\n",
    "avgA = (300,300)\n",
    "avgB = (295,305)\n",
    "shift_x = avgA[0]-avgB[0]\n",
    "shift_y = avgA[1]-avgB[1]\n",
    "\n",
    "print(shift_x,shift_y)\n",
    "\n",
    "result = np.zeros((imA.shape[1]+abs(avgA[1]-avgB[1]),imA.shape[0]+abs(avgA[0]-avgB[0])))\n",
    "result[:,:]=-np.inf\n",
    "\n",
    "print('result:\\n',result)\n",
    "right,shift_x = (abs(shift_x),0) if shift_x<0 else (0,shift_x) \n",
    "down,shift_y = (abs(shift_y),0) if shift_y<0 else (0,shift_y) \n",
    "result[shift_y:(imA.shape[1]+shift_y),shift_x:(imA.shape[0]+shift_x)]= \\\n",
    "np.where(result[shift_y:(imA.shape[1]+shift_y),shift_x:(imA.shape[0]+shift_x)]==-np.inf, \\\n",
    "imA,result[shift_y:(imA.shape[1]+shift_y),shift_x:(imA.shape[0]+shift_x)])\n",
    "result[down:(imB.shape[1]+down),right:(imB.shape[0]+right)]= \\\n",
    "np.where(result[down:(imB.shape[1]+down),right:(imB.shape[0]+right)]==-np.inf, \\\n",
    "imB,result[down:(imB.shape[1]+down),right:(imB.shape[0]+right)])\n",
    "print('result:\\n',result)\n",
    " "
   ]
  },
  {
   "cell_type": "code",
   "execution_count": null,
   "metadata": {},
   "outputs": [],
   "source": []
  }
 ],
 "metadata": {
  "kernelspec": {
   "display_name": "Python 3",
   "language": "python",
   "name": "python3"
  },
  "language_info": {
   "codemirror_mode": {
    "name": "ipython",
    "version": 3
   },
   "file_extension": ".py",
   "mimetype": "text/x-python",
   "name": "python",
   "nbconvert_exporter": "python",
   "pygments_lexer": "ipython3",
   "version": "3.5.2"
  }
 },
 "nbformat": 4,
 "nbformat_minor": 2
}
