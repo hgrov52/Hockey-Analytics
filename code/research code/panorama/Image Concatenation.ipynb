{
 "cells": [
  {
   "cell_type": "code",
   "execution_count": 76,
   "metadata": {
    "scrolled": false
   },
   "outputs": [
    {
     "name": "stdout",
     "output_type": "stream",
     "text": [
      "result after\n",
      " [[[  4.   4. -inf -inf -inf -inf -inf -inf -inf -inf -inf]\n",
      "  [  4.   4. -inf -inf -inf -inf -inf -inf -inf -inf -inf]\n",
      "  [  4.   4. -inf -inf -inf -inf -inf -inf -inf -inf -inf]\n",
      "  [  4.   4. -inf -inf -inf -inf -inf -inf -inf -inf -inf]\n",
      "  [  4.   4. -inf -inf -inf -inf -inf -inf -inf -inf -inf]\n",
      "  [  4.   4. -inf -inf -inf   1.   1.   1.   1.   1.   1.]\n",
      "  [  4.   4. -inf -inf -inf   1.   1.   1.   1.   1.   1.]\n",
      "  [  4.   4. -inf -inf -inf -inf -inf -inf -inf -inf -inf]\n",
      "  [  4.   4. -inf -inf -inf -inf -inf -inf -inf -inf -inf]\n",
      "  [  4.   4. -inf -inf -inf -inf -inf -inf -inf -inf -inf]]\n",
      "\n",
      " [[  5.   5. -inf -inf -inf -inf -inf -inf -inf -inf -inf]\n",
      "  [  5.   5. -inf -inf -inf -inf -inf -inf -inf -inf -inf]\n",
      "  [  5.   5. -inf -inf -inf -inf -inf -inf -inf -inf -inf]\n",
      "  [  5.   5. -inf -inf -inf -inf -inf -inf -inf -inf -inf]\n",
      "  [  5.   5. -inf -inf -inf -inf -inf -inf -inf -inf -inf]\n",
      "  [  5.   5. -inf -inf -inf   2.   2.   2.   2.   2.   2.]\n",
      "  [  5.   5. -inf -inf -inf   2.   2.   2.   2.   2.   2.]\n",
      "  [  5.   5. -inf -inf -inf -inf -inf -inf -inf -inf -inf]\n",
      "  [  5.   5. -inf -inf -inf -inf -inf -inf -inf -inf -inf]\n",
      "  [  5.   5. -inf -inf -inf -inf -inf -inf -inf -inf -inf]]\n",
      "\n",
      " [[  6.   6. -inf -inf -inf -inf -inf -inf -inf -inf -inf]\n",
      "  [  6.   6. -inf -inf -inf -inf -inf -inf -inf -inf -inf]\n",
      "  [  6.   6. -inf -inf -inf -inf -inf -inf -inf -inf -inf]\n",
      "  [  6.   6. -inf -inf -inf -inf -inf -inf -inf -inf -inf]\n",
      "  [  6.   6. -inf -inf -inf -inf -inf -inf -inf -inf -inf]\n",
      "  [  6.   6. -inf -inf -inf   3.   3.   3.   3.   3.   3.]\n",
      "  [  6.   6. -inf -inf -inf   3.   3.   3.   3.   3.   3.]\n",
      "  [  6.   6. -inf -inf -inf -inf -inf -inf -inf -inf -inf]\n",
      "  [  6.   6. -inf -inf -inf -inf -inf -inf -inf -inf -inf]\n",
      "  [  6.   6. -inf -inf -inf -inf -inf -inf -inf -inf -inf]]]\n"
     ]
    }
   ],
   "source": [
    "import numpy as np\n",
    "imageA = np.zeros((2,6,3))\n",
    "imageB = np.zeros((10,2,3))\n",
    "\n",
    "# move last axis to firsts index\n",
    "#imageA = np.moveaxis(imageA,-1,0)\n",
    "#imageB = np.moveaxis(imageB,-1,0)\n",
    "\n",
    "imageA[:,:,0]=1\n",
    "imageA[:,:,1]=2\n",
    "imageA[:,:,2]=3\n",
    "#print('imageA:\\n',imageA,'\\n')\n",
    "\n",
    "imageB[:,:,0]=4\n",
    "imageB[:,:,1]=5\n",
    "imageB[:,:,2]=6\n",
    "#print('imB:\\n',imageB,'\\n')\n",
    "\n",
    "avgA = (300,300)\n",
    "avgB = (305,305)\n",
    "\n",
    "def append_image(imageA, imageB, avgA, avgB):\n",
    "    shift_x = -avgA[0]+avgB[0]\n",
    "    shift_y = -avgA[1]+avgB[1]\n",
    "    right,shift_x = (abs(shift_x),0) if shift_x<0 else (0,shift_x) \n",
    "    down,shift_y = (abs(shift_y),0) if shift_y<0 else (0,shift_y) \n",
    "    result = np.zeros((max(imageA.shape[0]+shift_y,imageB.shape[0]+down),max(imageA.shape[1]+shift_x,imageB.shape[1]+right),3))\n",
    "    # result = np.zeros((max(imageA.shape[0],imageB.shape[0])+max(shift_y,down),max(imageA.shape[1],imageB.shape[1])+max(shift_x,right)))\n",
    "    result[:,:]=-np.inf\n",
    "    result[shift_y:(imageA.shape[0]+shift_y),shift_x:(imageA.shape[1]+shift_x),:]=\\\n",
    "    np.where(result[shift_y:(imageA.shape[0]+shift_y),shift_x:(imageA.shape[1]+shift_x),:]==-np.inf,\\\n",
    "    imageA,result[shift_y:(imageA.shape[0]+shift_y),shift_x:(imageA.shape[1]+shift_x),:])\n",
    "    #print(\"result before\\n\",result)\n",
    "    result[down:(imageB.shape[0]+down),right:(imageB.shape[1]+right),:]= \\\n",
    "    np.where(result[down:(imageB.shape[0]+down),right:(imageB.shape[1]+right),:]==-np.inf, \\\n",
    "    imageB,result[down:(imageB.shape[0]+down),right:(imageB.shape[1]+right),:])\n",
    "    #result = result.astype(int)\n",
    "    return result\n",
    "    \n",
    "    \n",
    "result = append_image(imageA,imageB,avgA,avgB)\n",
    "result = np.moveaxis(result,-1,0)\n",
    "print('result after\\n',result)\n",
    "\n",
    "#print(np.moveaxis(result,-1,0))\n"
   ]
  },
  {
   "cell_type": "code",
   "execution_count": 77,
   "metadata": {},
   "outputs": [
    {
     "name": "stderr",
     "output_type": "stream",
     "text": [
      "Clipping input data to the valid range for imshow with RGB data ([0..1] for floats or [0..255] for integers).\n"
     ]
    },
    {
     "name": "stdout",
     "output_type": "stream",
     "text": [
      "[[[  4.   4. -inf -inf -inf -inf -inf -inf -inf -inf -inf]\n",
      "  [  4.   4. -inf -inf -inf -inf -inf -inf -inf -inf -inf]\n",
      "  [  4.   4. -inf -inf -inf -inf -inf -inf -inf -inf -inf]\n",
      "  [  4.   4. -inf -inf -inf -inf -inf -inf -inf -inf -inf]\n",
      "  [  4.   4. -inf -inf -inf -inf -inf -inf -inf -inf -inf]\n",
      "  [  4.   4. -inf -inf -inf   1.   1.   1.   1.   1.   1.]\n",
      "  [  4.   4. -inf -inf -inf   1.   1.   1.   1.   1.   1.]\n",
      "  [  4.   4. -inf -inf -inf -inf -inf -inf -inf -inf -inf]\n",
      "  [  4.   4. -inf -inf -inf -inf -inf -inf -inf -inf -inf]\n",
      "  [  4.   4. -inf -inf -inf -inf -inf -inf -inf -inf -inf]]\n",
      "\n",
      " [[  5.   5. -inf -inf -inf -inf -inf -inf -inf -inf -inf]\n",
      "  [  5.   5. -inf -inf -inf -inf -inf -inf -inf -inf -inf]\n",
      "  [  5.   5. -inf -inf -inf -inf -inf -inf -inf -inf -inf]\n",
      "  [  5.   5. -inf -inf -inf -inf -inf -inf -inf -inf -inf]\n",
      "  [  5.   5. -inf -inf -inf -inf -inf -inf -inf -inf -inf]\n",
      "  [  5.   5. -inf -inf -inf   2.   2.   2.   2.   2.   2.]\n",
      "  [  5.   5. -inf -inf -inf   2.   2.   2.   2.   2.   2.]\n",
      "  [  5.   5. -inf -inf -inf -inf -inf -inf -inf -inf -inf]\n",
      "  [  5.   5. -inf -inf -inf -inf -inf -inf -inf -inf -inf]\n",
      "  [  5.   5. -inf -inf -inf -inf -inf -inf -inf -inf -inf]]\n",
      "\n",
      " [[  6.   6. -inf -inf -inf -inf -inf -inf -inf -inf -inf]\n",
      "  [  6.   6. -inf -inf -inf -inf -inf -inf -inf -inf -inf]\n",
      "  [  6.   6. -inf -inf -inf -inf -inf -inf -inf -inf -inf]\n",
      "  [  6.   6. -inf -inf -inf -inf -inf -inf -inf -inf -inf]\n",
      "  [  6.   6. -inf -inf -inf -inf -inf -inf -inf -inf -inf]\n",
      "  [  6.   6. -inf -inf -inf   3.   3.   3.   3.   3.   3.]\n",
      "  [  6.   6. -inf -inf -inf   3.   3.   3.   3.   3.   3.]\n",
      "  [  6.   6. -inf -inf -inf -inf -inf -inf -inf -inf -inf]\n",
      "  [  6.   6. -inf -inf -inf -inf -inf -inf -inf -inf -inf]\n",
      "  [  6.   6. -inf -inf -inf -inf -inf -inf -inf -inf -inf]]]\n"
     ]
    },
    {
     "data": {
      "image/png": "[encoded data removed]",
      "text/plain": [
       "<Figure size 432x288 with 1 Axes>"
      ]
     },
     "metadata": {},
     "output_type": "display_data"
    }
   ],
   "source": [
    "import cv2\n",
    "import numpy as np\n",
    "from matplotlib import pyplot as plt\n",
    "imageC = cv2.imread('frame907.jpg')\n",
    "imageD = cv2.imread('frame911.jpg')\n",
    "imageE = cv2.imread('frame915.jpg')\n",
    "\n",
    "\n",
    "\n",
    "result = append_image(imageA,imageB,avgA,avgB)\n",
    "\n",
    "plt.imshow(result)\n",
    "\n",
    "result = np.moveaxis(result,-1,0)\n",
    "imageC = np.moveaxis(imageC,-1,0)\n",
    "imageD = np.moveaxis(imageD,-1,0)\n",
    "\n",
    "print(result)\n",
    "\n",
    "\n",
    "\n"
   ]
  },
  {
   "cell_type": "code",
   "execution_count": null,
   "metadata": {},
   "outputs": [],
   "source": []
  },
  {
   "cell_type": "code",
   "execution_count": null,
   "metadata": {},
   "outputs": [],
   "source": []
  }
 ],
 "metadata": {
  "kernelspec": {
   "display_name": "Python 3",
   "language": "python",
   "name": "python3"
  }
 },
 "nbformat": 4,
 "nbformat_minor": 2
}
